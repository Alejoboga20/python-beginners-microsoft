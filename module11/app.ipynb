{
 "cells": [
  {
   "cell_type": "code",
   "execution_count": null,
   "metadata": {},
   "outputs": [],
   "source": [
    "def rocket_parts(): # No arguments needed\n",
    "  print('Payload, Propelant, Structure')\n",
    "\n",
    "rocket_parts()"
   ]
  },
  {
   "cell_type": "markdown",
   "metadata": {},
   "source": [
    "To create a function, you use the def keyword followed by a name, parentheses, and then the body with the function code.\n",
    "In Python, if a function doesn't explicitly return a value, it implicitly returns None."
   ]
  },
  {
   "cell_type": "code",
   "execution_count": null,
   "metadata": {},
   "outputs": [],
   "source": [
    "def rocket_parts():\n",
    "  return \"Payload, Propelant, Structure\"\n",
    "\n",
    "parts = rocket_parts()\n",
    "print(parts)"
   ]
  },
  {
   "cell_type": "code",
   "execution_count": null,
   "metadata": {},
   "outputs": [],
   "source": [
    "def distance_from_earth(destination):\n",
    "  if destination == 'Moon':\n",
    "    return '238,855'\n",
    "  else:\n",
    "    return 'Unable to compute to that destination'\n",
    "\n",
    "print(distance_from_earth('Moon'))\n",
    "\n",
    "def days_to_complete(distance, speed):\n",
    "  hours = distance / speed\n",
    "  return hours / 24\n",
    "\n",
    "print(round(days_to_complete(238855, 75)))\n",
    "\n"
   ]
  },
  {
   "cell_type": "markdown",
   "metadata": {},
   "source": [
    "Although passing functions directly into other functions as input is useful, there is potential for reduced readability. This pattern is especially problematic when the functions require many arguments."
   ]
  },
  {
   "cell_type": "markdown",
   "metadata": {},
   "source": [
    "Optional arguments require a default value assigned to them. These named arguments are called keyword arguments. Keyword argument values must be defined in the functions themselves. When you're calling a function that's defined with keyword arguments, it isn't necessary to use them at all.\n",
    "\n",
    "Sometimes, a function needs a combination of arguments and keyword arguments. In Python, this combination follows a specific order. Arguments are always declared first, followed by keyword arguments."
   ]
  },
  {
   "cell_type": "code",
   "execution_count": null,
   "metadata": {},
   "outputs": [],
   "source": [
    "from datetime import timedelta, datetime\n",
    "\n",
    "def arrival_time(hours = 51):\n",
    "  now = datetime.now()\n",
    "  arrival_time = now + timedelta(hours=hours)\n",
    "  return arrival_time.strftime('Arrival: %A %H:%M ')\n",
    "\n",
    "print(arrival_time())\n",
    "print(arrival_time(60))\n",
    "\n",
    "\n",
    "def arrival_time_with_destination(destination, hours=51):\n",
    "  now = datetime.now()\n",
    "  arrival = now + timedelta(hours=hours)\n",
    "  return arrival.strftime(f\"{destination} Arrival: %A %H:%M\")\n",
    "\n",
    "arrival_time_with_destination(\"Moon\")"
   ]
  },
  {
   "cell_type": "markdown",
   "metadata": {},
   "source": [
    "# Variable arguments\n",
    "\n",
    "Arguments in functions are required. But when you're using variable arguments, the function allows any number of arguments (including 0) to be passed in. The syntax for using variable arguments is prefixing a single asterisk (*) before the argument's name.\n",
    "\n",
    "For a function to accept any number of keyword arguments, you use a similar syntax. In this case, a double asterisk is required."
   ]
  },
  {
   "cell_type": "code",
   "execution_count": null,
   "metadata": {},
   "outputs": [],
   "source": [
    "def variable_length(*args):\n",
    "  print(args)\n",
    "\n",
    "def variable_length(**kwargs):\n",
    "  print(kwargs)\n",
    "\n",
    "# Example\n",
    "def fuel_report(**fuel_tanks):\n",
    "    for name, value in ModuleNotFoundError.items():\n",
    "        print(f'{name}: {value}')"
   ]
  }
 ],
 "metadata": {
  "kernelspec": {
   "display_name": "Python 3.9.12 64-bit",
   "language": "python",
   "name": "python3"
  },
  "language_info": {
   "codemirror_mode": {
    "name": "ipython",
    "version": 3
   },
   "file_extension": ".py",
   "mimetype": "text/x-python",
   "name": "python",
   "nbconvert_exporter": "python",
   "pygments_lexer": "ipython3",
   "version": "3.9.12"
  },
  "orig_nbformat": 4,
  "vscode": {
   "interpreter": {
    "hash": "b0fa6594d8f4cbf19f97940f81e996739fb7646882a419484c72d19e05852a7e"
   }
  }
 },
 "nbformat": 4,
 "nbformat_minor": 2
}
