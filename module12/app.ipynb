{
 "cells": [
  {
   "cell_type": "markdown",
   "metadata": {},
   "source": [
    "# Use tracebacks to find errors\n",
    "\n",
    "A traceback is the body of text that can point to the origin (and ending) of an unhandled error.\n",
    "\n",
    "Tracebacks almost always include the following information:\n",
    "\n",
    "1. All file paths involved, for every call to every function\n",
    "2. Line numbers associated with every file path\n",
    "3. The names of functions, methods, or classes involved in producing an exception.\n",
    "4. The name of the exception that was raised\n"
   ]
  },
  {
   "cell_type": "markdown",
   "metadata": {},
   "source": [
    "# Handle exceptions\n",
    "\n",
    "## Try and Except blocks\n",
    "\n",
    "After the try keyword, you add code that has the potential to cause an exception. Next, you add the except keyword along with the possible exception, followed by any code that needs to run when that condition happens.\n",
    "When errors are of a similar nature and there's no need to handle them individually, you can group the exceptions together as one by using parentheses in the except line. For example, if the navigation system is under heavy loads and the file system becomes too busy, it makes sense to catch BlockingIOError and TimeOutError together.\n",
    "\n",
    "If you need to access the error that's associated with the exception, you must update the except line to include the as keyword (as err). This technique is handy if an exception is too generic and the error message can be useful"
   ]
  },
  {
   "cell_type": "code",
   "execution_count": null,
   "metadata": {},
   "outputs": [],
   "source": [
    "try:\n",
    "  open('config.txt')\n",
    "except FileNotFoundError:\n",
    "  print('File not found')"
   ]
  },
  {
   "cell_type": "code",
   "execution_count": 2,
   "metadata": {},
   "outputs": [
    {
     "name": "stdout",
     "output_type": "stream",
     "text": [
      "File could not be found\n"
     ]
    }
   ],
   "source": [
    "def main():\n",
    "  try:\n",
    "    configuration_file = open('config.txt')\n",
    "  except FileNotFoundError as err:\n",
    "    print('File could not be found: ', err)\n",
    "  except IsADirectoryError:\n",
    "    print(\"Found config.txt but it is a directory, couldn't read it\")\n",
    "  except (BlockingIOError, TimeoutError):\n",
    "    print(\"Filesystem under heavy load, can't complete reading configuration file\")\n",
    "\n",
    "if __name__ == '__main__':\n",
    "  main()"
   ]
  },
  {
   "cell_type": "markdown",
   "metadata": {},
   "source": [
    "# Raise exceptions\n",
    "\n",
    "You might already know of a situation that could cause an error condition when you're writing code. In these situations, it's useful to raise exceptions that let other code realize what the problem is"
   ]
  },
  {
   "cell_type": "code",
   "execution_count": 7,
   "metadata": {},
   "outputs": [
    {
     "ename": "TypeError",
     "evalue": "All arguments must be type int but received: 5",
     "output_type": "error",
     "traceback": [
      "\u001b[0;31m---------------------------------------------------------------------------\u001b[0m",
      "\u001b[0;31mTypeError\u001b[0m                                 Traceback (most recent call last)",
      "\u001b[1;32m/Users/alejoboga/Desktop/Python/Microsoft/Course/module12/app.ipynb Cell 6\u001b[0m in \u001b[0;36mwater_left\u001b[0;34m(astronauts, water_left, days_left)\u001b[0m\n\u001b[1;32m      <a href='vscode-notebook-cell:/Users/alejoboga/Desktop/Python/Microsoft/Course/module12/app.ipynb#X10sZmlsZQ%3D%3D?line=3'>4</a>\u001b[0m \u001b[39mtry\u001b[39;00m:\n\u001b[0;32m----> <a href='vscode-notebook-cell:/Users/alejoboga/Desktop/Python/Microsoft/Course/module12/app.ipynb#X10sZmlsZQ%3D%3D?line=4'>5</a>\u001b[0m   argument \u001b[39m/\u001b[39;49m \u001b[39m10\u001b[39;49m\n\u001b[1;32m      <a href='vscode-notebook-cell:/Users/alejoboga/Desktop/Python/Microsoft/Course/module12/app.ipynb#X10sZmlsZQ%3D%3D?line=5'>6</a>\u001b[0m \u001b[39mexcept\u001b[39;00m \u001b[39mTypeError\u001b[39;00m:\n",
      "\u001b[0;31mTypeError\u001b[0m: unsupported operand type(s) for /: 'str' and 'int'",
      "\nDuring handling of the above exception, another exception occurred:\n",
      "\u001b[0;31mTypeError\u001b[0m                                 Traceback (most recent call last)",
      "\u001b[1;32m/Users/alejoboga/Desktop/Python/Microsoft/Course/module12/app.ipynb Cell 6\u001b[0m in \u001b[0;36m<cell line: 18>\u001b[0;34m()\u001b[0m\n\u001b[1;32m     <a href='vscode-notebook-cell:/Users/alejoboga/Desktop/Python/Microsoft/Course/module12/app.ipynb#X10sZmlsZQ%3D%3D?line=15'>16</a>\u001b[0m   \u001b[39mreturn\u001b[39;00m \u001b[39mf\u001b[39m\u001b[39m'\u001b[39m\u001b[39mTotal water left after  \u001b[39m\u001b[39m{\u001b[39;00mdays_left\u001b[39m}\u001b[39;00m\u001b[39m is: \u001b[39m\u001b[39m{\u001b[39;00mtotal_water_left\u001b[39m}\u001b[39;00m\u001b[39m liters\u001b[39m\u001b[39m'\u001b[39m\n\u001b[1;32m     <a href='vscode-notebook-cell:/Users/alejoboga/Desktop/Python/Microsoft/Course/module12/app.ipynb#X10sZmlsZQ%3D%3D?line=17'>18</a>\u001b[0m \u001b[39mtry\u001b[39;00m:\n\u001b[0;32m---> <a href='vscode-notebook-cell:/Users/alejoboga/Desktop/Python/Microsoft/Course/module12/app.ipynb#X10sZmlsZQ%3D%3D?line=18'>19</a>\u001b[0m   water_left(\u001b[39m\"\u001b[39;49m\u001b[39m5\u001b[39;49m\u001b[39m\"\u001b[39;49m, \u001b[39m100\u001b[39;49m, \u001b[39m2\u001b[39;49m)\n\u001b[1;32m     <a href='vscode-notebook-cell:/Users/alejoboga/Desktop/Python/Microsoft/Course/module12/app.ipynb#X10sZmlsZQ%3D%3D?line=19'>20</a>\u001b[0m \u001b[39mexcept\u001b[39;00m \u001b[39mRuntimeError\u001b[39;00m \u001b[39mas\u001b[39;00m err:\n\u001b[1;32m     <a href='vscode-notebook-cell:/Users/alejoboga/Desktop/Python/Microsoft/Course/module12/app.ipynb#X10sZmlsZQ%3D%3D?line=20'>21</a>\u001b[0m   \u001b[39mprint\u001b[39m(err)\n",
      "\u001b[1;32m/Users/alejoboga/Desktop/Python/Microsoft/Course/module12/app.ipynb Cell 6\u001b[0m in \u001b[0;36mwater_left\u001b[0;34m(astronauts, water_left, days_left)\u001b[0m\n\u001b[1;32m      <a href='vscode-notebook-cell:/Users/alejoboga/Desktop/Python/Microsoft/Course/module12/app.ipynb#X10sZmlsZQ%3D%3D?line=4'>5</a>\u001b[0m     argument \u001b[39m/\u001b[39m \u001b[39m10\u001b[39m\n\u001b[1;32m      <a href='vscode-notebook-cell:/Users/alejoboga/Desktop/Python/Microsoft/Course/module12/app.ipynb#X10sZmlsZQ%3D%3D?line=5'>6</a>\u001b[0m   \u001b[39mexcept\u001b[39;00m \u001b[39mTypeError\u001b[39;00m:\n\u001b[0;32m----> <a href='vscode-notebook-cell:/Users/alejoboga/Desktop/Python/Microsoft/Course/module12/app.ipynb#X10sZmlsZQ%3D%3D?line=6'>7</a>\u001b[0m     \u001b[39mraise\u001b[39;00m \u001b[39mTypeError\u001b[39;00m(\u001b[39mf\u001b[39m\u001b[39m'\u001b[39m\u001b[39mAll arguments must be type int but received: \u001b[39m\u001b[39m{\u001b[39;00margument\u001b[39m}\u001b[39;00m\u001b[39m'\u001b[39m)\n\u001b[1;32m      <a href='vscode-notebook-cell:/Users/alejoboga/Desktop/Python/Microsoft/Course/module12/app.ipynb#X10sZmlsZQ%3D%3D?line=8'>9</a>\u001b[0m daily_usage \u001b[39m=\u001b[39m astronauts \u001b[39m*\u001b[39m \u001b[39m11\u001b[39m\n\u001b[1;32m     <a href='vscode-notebook-cell:/Users/alejoboga/Desktop/Python/Microsoft/Course/module12/app.ipynb#X10sZmlsZQ%3D%3D?line=9'>10</a>\u001b[0m total_usage \u001b[39m=\u001b[39m daily_usage \u001b[39m*\u001b[39m days_left\n",
      "\u001b[0;31mTypeError\u001b[0m: All arguments must be type int but received: 5"
     ]
    }
   ],
   "source": [
    "def water_left(astronauts, water_left, days_left):\n",
    "\n",
    "  for argument in [astronauts, water_left, days_left]:\n",
    "    try:\n",
    "      argument / 10\n",
    "    except TypeError:\n",
    "      raise TypeError(f'All arguments must be type int but received: \"{argument}\"')\n",
    "\n",
    "  daily_usage = astronauts * 11\n",
    "  total_usage = daily_usage * days_left\n",
    "  total_water_left = water_left - total_usage\n",
    "\n",
    "  if (total_water_left < 0):\n",
    "    raise RuntimeError(f'There is not enough water for {astronauts} astronauts after {days_left} days!')\n",
    "\n",
    "  return f'Total water left after  {days_left} is: {total_water_left} liters'\n",
    "\n",
    "try:\n",
    "  water_left(5, 100, 2)\n",
    "except RuntimeError as err:\n",
    "  print(err)"
   ]
  }
 ],
 "metadata": {
  "kernelspec": {
   "display_name": "Python 3.9.12 64-bit",
   "language": "python",
   "name": "python3"
  },
  "language_info": {
   "codemirror_mode": {
    "name": "ipython",
    "version": 3
   },
   "file_extension": ".py",
   "mimetype": "text/x-python",
   "name": "python",
   "nbconvert_exporter": "python",
   "pygments_lexer": "ipython3",
   "version": "3.9.12"
  },
  "orig_nbformat": 4,
  "vscode": {
   "interpreter": {
    "hash": "b0fa6594d8f4cbf19f97940f81e996739fb7646882a419484c72d19e05852a7e"
   }
  }
 },
 "nbformat": 4,
 "nbformat_minor": 2
}
